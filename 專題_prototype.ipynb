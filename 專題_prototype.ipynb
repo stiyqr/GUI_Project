{
  "nbformat": 4,
  "nbformat_minor": 0,
  "metadata": {
    "colab": {
      "provenance": [],
      "authorship_tag": "ABX9TyNtSjrZB0JE2Bcwt8K/81Rb",
      "include_colab_link": true
    },
    "kernelspec": {
      "name": "python3",
      "display_name": "Python 3"
    },
    "language_info": {
      "name": "python"
    }
  },
  "cells": [
    {
      "cell_type": "markdown",
      "metadata": {
        "id": "view-in-github",
        "colab_type": "text"
      },
      "source": [
        "<a href=\"https://colab.research.google.com/github/stiyqr/GUI_Project/blob/main/%E5%B0%88%E9%A1%8C_prototype.ipynb\" target=\"_parent\"><img src=\"https://colab.research.google.com/assets/colab-badge.svg\" alt=\"Open In Colab\"/></a>"
      ]
    },
    {
      "cell_type": "code",
      "source": [],
      "metadata": {
        "id": "nCIxl5O9bT3U"
      },
      "execution_count": null,
      "outputs": []
    },
    {
      "cell_type": "markdown",
      "source": [
        "# Installs"
      ],
      "metadata": {
        "id": "jjQY6_qOP3Ax"
      }
    },
    {
      "cell_type": "code",
      "execution_count": null,
      "metadata": {
        "id": "Vb6WyJfyPowZ",
        "colab": {
          "base_uri": "https://localhost:8080/"
        },
        "outputId": "a5177d91-8043-407c-c2d1-16570d40ddb5"
      },
      "outputs": [
        {
          "output_type": "stream",
          "name": "stdout",
          "text": [
            "  Preparing metadata (setup.py) ... \u001b[?25l\u001b[?25hdone\n"
          ]
        }
      ],
      "source": [
        "!pip install -q git+https://github.com/m-bain/whisperx.git"
      ]
    },
    {
      "cell_type": "code",
      "source": [
        "!pip install -q gradio"
      ],
      "metadata": {
        "id": "SurW_FmHQDv6"
      },
      "execution_count": null,
      "outputs": []
    },
    {
      "cell_type": "markdown",
      "source": [
        "# GUI"
      ],
      "metadata": {
        "id": "-i07ow5gP8hd"
      }
    },
    {
      "cell_type": "code",
      "source": [
        "import gradio as gr\n",
        "from datetime import datetime\n",
        "import os"
      ],
      "metadata": {
        "id": "jGO2BGyxP9G2"
      },
      "execution_count": null,
      "outputs": []
    },
    {
      "cell_type": "code",
      "source": [
        "#=========================================#\n",
        "#            Processing Video             #\n",
        "#    for callback wav2lip and whisperx    #\n",
        "#=========================================#\n",
        "def process_video(video, audio):\n",
        "    if video is None and audio is None:\n",
        "        raise gr.Warning(\"Please upload a video and audio file\")\n",
        "    elif video is None:\n",
        "        raise gr.Warning(\"Please upload a video file\")\n",
        "    elif audio is None:\n",
        "        raise gr.Warning(\"Please upload an audio file\")\n",
        "\n",
        "    # Ensure the directory exists\n",
        "    output_dir = \"processed_video\"\n",
        "    if not os.path.exists(output_dir):\n",
        "        os.makedirs(output_dir)\n",
        "\n",
        "    # Generate a timestamped filename\n",
        "    timestamp = datetime.now().strftime(\"%Y%m%d_%H%M%S\")\n",
        "    output_filename = f\"{timestamp}.mp4\"\n",
        "    output_filepath = os.path.join(output_dir, output_filename)\n",
        "\n",
        "    # later will call code here for the lipsync and dubbing\n",
        "    # For now, just save the uploaded video as the processed video\n",
        "    with open(video, 'rb') as infile:\n",
        "        with open(output_filepath, 'wb') as outfile:\n",
        "            outfile.write(infile.read())\n",
        "\n",
        "    return output_filepath\n",
        "\n",
        "\n",
        "#=========================================#\n",
        "#    Showing all the processed video      #\n",
        "#=========================================#\n",
        "def get_all_processed_videos():\n",
        "        output_dir = \"processed_video\"\n",
        "        processed_videos = [os.path.join(output_dir, f) for f in os.listdir(output_dir) if f.endswith('.mp4')]\n",
        "\n",
        "        # Ensure the list has exactly 10 elements\n",
        "        update_show = processed_videos + [None] * (10 - len(processed_videos))\n",
        "\n",
        "        # Update the btn_list with video paths\n",
        "        updates = []\n",
        "        for video_path in update_show:\n",
        "            if video_path is not None:\n",
        "                filename = os.path.basename(video_path)\n",
        "                updates.append(gr.update(value=video_path, label=filename, visible=True))\n",
        "            else:\n",
        "                updates.append(gr.update(visible=False))\n",
        "\n",
        "        return updates\n",
        "\n",
        "video_list = []\n",
        "\n",
        "\n",
        "#=========================================#\n",
        "#            Custom Interface             #\n",
        "#=========================================#\n",
        "def get_custom_blocks():\n",
        "    theme_color = gr.themes.Default(primary_hue=\"lime\")\n",
        "    title = \"Welcome to Zhuantii\"\n",
        "    css = \"footer{display:none !important}\"\n",
        "    #\"\"\".gradio-container {margin: 0 !important};\"\"\"\n",
        "\n",
        "    return {\"theme\": theme_color, \"title\": title, \"css\": css}\n",
        "\n",
        "\n",
        "#=========================================#\n",
        "#          Creating the interface         #\n",
        "#=========================================#\n",
        "custom_block = get_custom_blocks()\n",
        "theme = custom_block[\"theme\"]\n",
        "title = custom_block[\"title\"]\n",
        "css = custom_block[\"css\"]\n",
        "\n",
        "# with gr.Blocks(theme = theme, title = title, css = css) as create_interface:\n",
        "with gr.Blocks(theme = theme, title = title, css = css) as demo:\n",
        "\n",
        "    # Page header\n",
        "    with gr.Row():\n",
        "        # The title and description of the web server\n",
        "        with gr.Column(scale = 12):\n",
        "            with gr.Column():\n",
        "                Title = gr.Markdown(\n",
        "                    f\"\"\"\n",
        "                    <h1 style=\"color: #7ABF13;\">\n",
        "                    {title}\n",
        "                    </h1>\n",
        "                    \"\"\"\n",
        "                )\n",
        "                Desc = gr.Markdown(\n",
        "                    \"\"\"\n",
        "                    This is a web server that will process a video and audio file.\n",
        "                    The video will be processed using the lipsync and dubbing technique.\n",
        "                    bla bla bla\n",
        "                    \"\"\"\n",
        "                )\n",
        "\n",
        "        #space purpose\n",
        "        with gr.Column(scale = 5):\n",
        "            pass\n",
        "\n",
        "        #with gr.Column(scale = 2):\n",
        "        #    toggle_dark = gr.Button(value=\"Toggle Dark\")\n",
        "\n",
        "    # Space purpose\n",
        "    with gr.Row():\n",
        "        pass\n",
        "\n",
        "    upload_interface = gr.Interface(\n",
        "        fn = process_video,\n",
        "        inputs = [\n",
        "            gr.Video(label = \"Upload Video\",\n",
        "                    sources = \"upload\"),\n",
        "\n",
        "            gr.Audio(label = \"Upload Dub Audio\",\n",
        "                    sources = \"upload\"),\n",
        "        ],\n",
        "        outputs = gr.Video(label = \"Processed Video\",\n",
        "                        show_download_button = True, autoplay = False),\n",
        "\n",
        "        # #All the upload video and audio files will be stored in the \"file_tracking\" directory\n",
        "        allow_flagging = \"never\",\n",
        "        # flagging_dir = \"file_tracking\",\n",
        "    )\n",
        "\n",
        "    with gr.Row():\n",
        "        for i in range(7):\n",
        "            btn = gr.Video(visible=False)\n",
        "            video_list.append(btn)\n",
        "\n",
        "    run_button = gr.Button(\"Show All Output\")\n",
        "    run_button.click(get_all_processed_videos, None, video_list)\n",
        "\n",
        "\n",
        "#=========================================#\n",
        "#           Launch the interface          #\n",
        "#=========================================#\n",
        "if __name__ == \"__main__\":\n",
        "    # create_interface.launch()\n",
        "    demo.launch()\n"
      ],
      "metadata": {
        "colab": {
          "base_uri": "https://localhost:8080/",
          "height": 630
        },
        "id": "dZeJadW4QBB7",
        "outputId": "3120de6c-af46-45e4-9c2e-75782904fea6"
      },
      "execution_count": null,
      "outputs": [
        {
          "output_type": "stream",
          "name": "stdout",
          "text": [
            "Setting queue=True in a Colab notebook requires sharing enabled. Setting `share=True` (you can turn this off by setting `share=False` in `launch()` explicitly).\n",
            "\n",
            "Colab notebook detected. To show errors in colab notebook, set debug=True in launch()\n",
            "Running on public URL: https://8160de61838bbd0984.gradio.live\n",
            "\n",
            "This share link expires in 72 hours. For free permanent hosting and GPU upgrades, run `gradio deploy` from Terminal to deploy to Spaces (https://huggingface.co/spaces)\n"
          ]
        },
        {
          "output_type": "display_data",
          "data": {
            "text/plain": [
              "<IPython.core.display.HTML object>"
            ],
            "text/html": [
              "<div><iframe src=\"https://8160de61838bbd0984.gradio.live\" width=\"100%\" height=\"500\" allow=\"autoplay; camera; microphone; clipboard-read; clipboard-write;\" frameborder=\"0\" allowfullscreen></iframe></div>"
            ]
          },
          "metadata": {}
        }
      ]
    },
    {
      "cell_type": "code",
      "source": [],
      "metadata": {
        "id": "_zIB7UUSQVcG"
      },
      "execution_count": null,
      "outputs": []
    }
  ]
}